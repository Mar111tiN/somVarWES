{
 "cells": [
  {
   "cell_type": "code",
   "execution_count": null,
   "metadata": {
    "ExecuteTime": {
     "end_time": "2019-09-10T05:09:33.819724Z",
     "start_time": "2019-09-10T05:09:33.816706Z"
    }
   },
   "outputs": [],
   "source": [
    "import yaml\n",
    "import os\n",
    "config = yaml.load(open('configs/config.yaml'))\n",
    "def full_path(file):\n",
    "\n",
    "    '''\n",
    "    returns the full path to a reference\n",
    "    '''\n",
    "\n",
    "    build = config['ref']['build']\n",
    "    full_ref_path = os.path.join(config['paths']['static'], build, config['ref'][build][file])\n",
    "    return full_ref_path"
   ]
  },
  {
   "cell_type": "markdown",
   "metadata": {},
   "source": [
    "### get_bed_file"
   ]
  },
  {
   "cell_type": "code",
   "execution_count": null,
   "metadata": {
    "ExecuteTime": {
     "end_time": "2019-09-10T05:24:42.848803Z",
     "start_time": "2019-09-10T05:24:42.841681Z"
    }
   },
   "outputs": [],
   "source": [
    "def get_bed_file(config, covered_or_padded):\n",
    "    '''\n",
    "    returns the appropriate bed_file depending on build and library\n",
    "    '''\n",
    "    \n",
    "    build = config['ref']['build']\n",
    "    lib = config['setup']['library']\n",
    "    lib_version = config['setup']['library_version']\n",
    "    prefix = 'SS' if lib == 'SureSelect' else lib\n",
    "    suffix = '_nochr' if build == 'hg19' else ''\n",
    "    bed_name = f\"{prefix}_{lib_version}_{build}_{covered_or_padded}{suffix}.bed\"\n",
    "    bed_file = os.path.join(config['paths']['static'], 'bed_files', lib, build,bed_name)\n",
    "    return bed_file\n",
    "\n",
    "get_bed_file(config, 'Padded')"
   ]
  },
  {
   "cell_type": "markdown",
   "metadata": {},
   "source": [
    "### filter annovar protocol"
   ]
  },
  {
   "cell_type": "code",
   "execution_count": null,
   "metadata": {
    "ExecuteTime": {
     "end_time": "2019-09-10T08:53:44.034808Z",
     "start_time": "2019-09-10T08:53:44.022588Z"
    }
   },
   "outputs": [],
   "source": [
    "# reduce list\n",
    "build_files = []\n",
    "for file in file_list:\n",
    "    if build in file:\n",
    "        build_files.append(file)\n",
    "        \n",
    "anno_list = []\n",
    "missing = []\n",
    "for anno in anno_refs:\n",
    "    for file in build_files:\n",
    "        if anno in file:\n",
    "            anno_list.append(anno)\n",
    "            break\n",
    "    else:\n",
    "        missing.append(anno)\n",
    "protocol = ','.join(anno_list)\n",
    "\n",
    "operation_list = []\n",
    "for anno in anno_list:\n",
    "    if anno == \"refGene\":\n",
    "        operation_list.append('g')\n",
    "    elif anno in ['cytoBand', 'genomicSuperDups']:\n",
    "        operation_list.append('r')\n",
    "    else:\n",
    "        operation_list.append('f')\n",
    "operation = ','.join(operation_list)\n",
    "\n",
    "missing\n",
    "protocol\n",
    "operation\n",
    "\n",
    "# build_files"
   ]
  },
  {
   "cell_type": "markdown",
   "metadata": {},
   "source": [
    "### filter"
   ]
  },
  {
   "cell_type": "code",
   "execution_count": null,
   "metadata": {
    "ExecuteTime": {
     "end_time": "2019-09-10T08:57:09.460659Z",
     "start_time": "2019-09-10T08:57:09.455996Z"
    }
   },
   "outputs": [],
   "source": [
    "filter_name = 'daniel'\n",
    "filter_config = config['filter'][filter_name]\n",
    "def get_filter(f):\n",
    "    '''\n",
    "    takes the filter dictionary and returns full path to the filter script using filter['name']\n",
    "    '''\n",
    "\n",
    "    return os.path.join(config['snakedir'], config['paths']['scripts'], 'filters', f['path'])\n",
    "filter_config"
   ]
  },
  {
   "cell_type": "code",
   "execution_count": null,
   "metadata": {
    "ExecuteTime": {
     "end_time": "2019-09-10T08:57:27.816020Z",
     "start_time": "2019-09-10T08:57:27.811766Z"
    }
   },
   "outputs": [],
   "source": [
    "filter_script = get_filter(filter_config)\n",
    "filter_script"
   ]
  },
  {
   "cell_type": "code",
   "execution_count": null,
   "metadata": {
    "ExecuteTime": {
     "end_time": "2019-09-10T09:03:51.976098Z",
     "start_time": "2019-09-10T09:03:51.971216Z"
    }
   },
   "outputs": [],
   "source": [
    "[[f\"-{param}\", f\"{val}\"] for param, val in filter_config['params'].items()]"
   ]
  },
  {
   "cell_type": "code",
   "execution_count": null,
   "metadata": {
    "ExecuteTime": {
     "end_time": "2019-09-10T08:59:02.495304Z",
     "start_time": "2019-09-10T08:59:02.489851Z"
    }
   },
   "outputs": [],
   "source": [
    "params_list = [param for plist in [[f\"-{param}\", f\"{val}\"] for param, val in filter_config['params'].items()] for param in plist]\n",
    "params_list"
   ]
  },
  {
   "cell_type": "code",
   "execution_count": null,
   "metadata": {
    "ExecuteTime": {
     "end_time": "2019-09-10T08:59:35.218921Z",
     "start_time": "2019-09-10T08:59:35.216260Z"
    }
   },
   "outputs": [],
   "source": [
    "filter_cmd = [filter_script, *params_list, 'input_file', 'output']"
   ]
  },
  {
   "cell_type": "code",
   "execution_count": null,
   "metadata": {
    "ExecuteTime": {
     "end_time": "2019-09-10T09:00:04.108765Z",
     "start_time": "2019-09-10T09:00:04.104072Z"
    }
   },
   "outputs": [],
   "source": [
    "print(f\" \".join(filter_cmd))"
   ]
  },
  {
   "cell_type": "code",
   "execution_count": null,
   "metadata": {},
   "outputs": [],
   "source": []
  }
 ],
 "metadata": {
  "kernelspec": {
   "display_name": "Python 3",
   "language": "python",
   "name": "python3"
  },
  "language_info": {
   "codemirror_mode": {
    "name": "ipython",
    "version": 3
   },
   "file_extension": ".py",
   "mimetype": "text/x-python",
   "name": "python",
   "nbconvert_exporter": "python",
   "pygments_lexer": "ipython3",
   "version": "3.7.6"
  },
  "varInspector": {
   "cols": {
    "lenName": 16,
    "lenType": 16,
    "lenVar": 40
   },
   "kernels_config": {
    "python": {
     "delete_cmd_postfix": "",
     "delete_cmd_prefix": "del ",
     "library": "var_list.py",
     "varRefreshCmd": "print(var_dic_list())"
    },
    "r": {
     "delete_cmd_postfix": ") ",
     "delete_cmd_prefix": "rm(",
     "library": "var_list.r",
     "varRefreshCmd": "cat(var_dic_list()) "
    }
   },
   "types_to_exclude": [
    "module",
    "function",
    "builtin_function_or_method",
    "instance",
    "_Feature"
   ],
   "window_display": false
  }
 },
 "nbformat": 4,
 "nbformat_minor": 2
}
