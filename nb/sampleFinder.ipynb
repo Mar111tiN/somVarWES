{
 "cells": [
  {
   "cell_type": "code",
   "execution_count": null,
   "metadata": {
    "ExecuteTime": {
     "end_time": "2022-06-13T05:12:23.649735Z",
     "start_time": "2022-06-13T05:12:23.384637Z"
    }
   },
   "outputs": [],
   "source": [
    "ls \"../sheets\""
   ]
  },
  {
   "cell_type": "markdown",
   "metadata": {},
   "source": [
    "### load the config"
   ]
  },
  {
   "cell_type": "code",
   "execution_count": null,
   "metadata": {
    "ExecuteTime": {
     "end_time": "2022-06-13T06:20:54.638815Z",
     "start_time": "2022-06-13T06:20:54.398717Z"
    }
   },
   "outputs": [],
   "source": [
    "from yaml import CLoader as Loader, load, dump\n",
    "config_file = \"../configs/active_config.yaml\"\n",
    "\n",
    "with open(config_file, \"r\") as stream:\n",
    "    config = load(stream, Loader=Loader)\n",
    "\n",
    "    \n",
    "# switch the path to local mount\n",
    "home = os.environ['HOME']\n",
    "bam_path = os.path.join(home, \"mount/scratch/projects/AllenCell/bamfinal\")\n",
    "config['inputdirs'] = [bam_path]\n",
    "config"
   ]
  },
  {
   "cell_type": "code",
   "execution_count": null,
   "metadata": {
    "ExecuteTime": {
     "end_time": "2022-06-13T06:20:54.666535Z",
     "start_time": "2022-06-13T06:20:54.662578Z"
    }
   },
   "outputs": [],
   "source": [
    "def get_files(folder_list, sample_sheet):\n",
    "    '''\n",
    "    retrieves the path to all the files in the sample_sheet\n",
    "    if rerun == False, it looks for fastq files\n",
    "    if rerun == True, it looks for bam files\n",
    "    '''\n",
    "\n",
    "    # check whether single folder or folder list\n",
    "    if len(folder_list[0]) == 1:\n",
    "        folder_list = [folder_list]\n",
    "    # check full path or append path to scriptdir\n",
    "    if not sample_sheet.startswith('/'):\n",
    "        sample_sheet = os.path.join(snakedir, sample_sheet)\n",
    "    # import the sample sheet\n",
    "    samples = pd.read_csv(sample_sheet, sep='\\t', index_col=0).set_index('name')\n",
    "\n",
    "\n",
    "    bam_list = []\n",
    "    short_list = []\n",
    "    # cycle through the input folders and look for matching bam files\n",
    "    for input_folder in folder_list:\n",
    "        # print(f\"Looking for bam files in {input_folder}\")\n",
    "        for folder, _, files in os.walk(input_folder):\n",
    "            for file in files:\n",
    "                if '.bam' in file and '.md5' not in file and '.bai' not in file:\n",
    "                    bam_list.append(os.path.join(folder, file))\n",
    "                    short_list.append(file)\n",
    "\n",
    "    # print(bam_list)\n",
    "    # include check for empty list\n",
    "    def get_bam_paths(row, bam_list=None):\n",
    "        '''\n",
    "        go through the sample list and find the respective read and index bams in the respective bam_list\n",
    "        '''\n",
    "\n",
    "        for file in bam_list:\n",
    "            # get the basename\n",
    "            base_file = os.path.basename(file)\n",
    "            if row['sample'] in base_file and not \"chr\" in base_file:\n",
    "                row['bam_path'] = file\n",
    "        return row\n",
    "\n",
    "    samples_df = samples.apply(get_bam_paths, axis=1, bam_list=bam_list)\n",
    "    short_df = samples.apply(get_bam_paths, axis=1, bam_list=short_list)\n",
    "\n",
    "    # # remove leading zeros\n",
    "    # samples_df.index = samples_df.index.str.lstrip('0')\n",
    "    # short_df.index = short_df.index.str.lstrip('0')\n",
    "    # ########## DEBUG #################\n",
    "    # print(short_df)\n",
    "    # print(samples_df)\n",
    "    # ##################################\n",
    "\n",
    "    return samples_df, short_df"
   ]
  },
  {
   "cell_type": "markdown",
   "metadata": {},
   "source": [
    "### load the samples"
   ]
  },
  {
   "cell_type": "code",
   "execution_count": null,
   "metadata": {
    "ExecuteTime": {
     "end_time": "2022-06-13T06:20:55.125161Z",
     "start_time": "2022-06-13T06:20:54.879425Z"
    }
   },
   "outputs": [],
   "source": [
    "snakedir = \"..\"\n",
    "sample_df, short_sample_df = get_files(config['inputdirs'], config['samples']['samplesheet'])\n",
    "sample_df"
   ]
  },
  {
   "cell_type": "markdown",
   "metadata": {},
   "source": [
    "## get tumor-normal-pairs"
   ]
  },
  {
   "cell_type": "code",
   "execution_count": null,
   "metadata": {
    "ExecuteTime": {
     "end_time": "2022-06-13T06:23:53.668120Z",
     "start_time": "2022-06-13T06:23:53.652159Z"
    }
   },
   "outputs": [],
   "source": [
    "def get_normal(verbose=False):\n",
    "    '''\n",
    "    boolean check for a fixed normal\n",
    "    also exits if there are more then one normal in combination with a fixed one\n",
    "    '''\n",
    "    normal = config['samples']['normal']\n",
    "    \n",
    "    if (is_fixed:= \"_\" in normal[0]):\n",
    "        if len(normal) > 1:\n",
    "            print(\"Cannot have more than one fixed normal!\")\n",
    "            exit\n",
    "        if verbose:\n",
    "            print(f\"Using fixed normal {normal[0]}\")\n",
    "    \n",
    "    return normal[0], is_fixed\n",
    "    \n",
    "def get_tumor_normal_pairs(samples, config):\n",
    "    '''\n",
    "    turns valid_file_info into tuples of valid tumor normal pairs\n",
    "    for a single normal file it returns \n",
    "    '''\n",
    "\n",
    "    samples = samples.reset_index()\n",
    "    # extract the tumor-normal suffix (Name_A --> sample: \"Name\", TN: \"A\")\n",
    "    samples[['sample', 'TN']] = samples['name'].str.extract('(?P<sample>^[^_]+)_(?P<TN>[^_]+)$')\n",
    "    \n",
    "    tumor = config['samples']['tumor']\n",
    "    normal, is_fixed = get_normal(verbose=True)\n",
    "    \n",
    "    if is_fixed:\n",
    "        # select only the A samples and concat with B\n",
    "        TN_list = samples.query('TN == @tumor')['name'] + \"-B\"\n",
    "        return list(TN_list)\n",
    "    \n",
    "    def TN_pair(group, l=[]):\n",
    "\n",
    "        for n in normal:\n",
    "            if n in list(group['TN']):\n",
    "                for t in tumor:\n",
    "                    if t in list(group['TN']):\n",
    "                        TN_list.append(f\"{group['sample'].iloc[0]}_{t}-{n}\")\n",
    "    TN_list = []\n",
    "    # append in an apply \n",
    "    samples.groupby('sample').apply(TN_pair, l=TN_list).reset_index()\n",
    "    ########## DEBUG #################\n",
    "    # print(TN_list)\n",
    "    ##################################\n",
    "    return TN_list"
   ]
  },
  {
   "cell_type": "code",
   "execution_count": null,
   "metadata": {
    "ExecuteTime": {
     "end_time": "2022-06-13T06:23:54.428928Z",
     "start_time": "2022-06-13T06:23:54.416714Z"
    }
   },
   "outputs": [],
   "source": [
    "get_normal(True)"
   ]
  },
  {
   "cell_type": "code",
   "execution_count": null,
   "metadata": {
    "ExecuteTime": {
     "end_time": "2022-06-13T06:23:57.588894Z",
     "start_time": "2022-06-13T06:23:57.572817Z"
    }
   },
   "outputs": [],
   "source": [
    "df = get_tumor_normal_pairs(sample_df, config)\n",
    "df"
   ]
  },
  {
   "cell_type": "markdown",
   "metadata": {},
   "source": [
    "### get bam paths"
   ]
  },
  {
   "cell_type": "markdown",
   "metadata": {},
   "source": [
    "#### creating wildcards object for testing\n"
   ]
  },
  {
   "cell_type": "code",
   "execution_count": null,
   "metadata": {
    "ExecuteTime": {
     "end_time": "2022-06-13T06:23:59.025044Z",
     "start_time": "2022-06-13T06:23:59.011688Z"
    }
   },
   "outputs": [],
   "source": [
    "class W:\n",
    "    def __init__(self, sample, tumor, normal, type=\"B\"):\n",
    "        self.sample = sample\n",
    "        self.tumor = tumor\n",
    "        self.normal = normal\n",
    "        self.type = type\n",
    "        self._names = dict(\n",
    "            sample=self.sample,\n",
    "            tumor=self.tumor,\n",
    "            normal=self.normal,\n",
    "            type=self.type\n",
    "        )\n",
    "wildcards = {\n",
    "    \"sample\":\"AICS16\",\n",
    "    \"tumor\": \"A\",\n",
    "    \"normal\": \"B\",\n",
    "    \"type\": \"B\"\n",
    "}\n",
    "w = W(**wildcards)\n",
    "vars(w)['_names'].keys()"
   ]
  },
  {
   "cell_type": "code",
   "execution_count": null,
   "metadata": {
    "ExecuteTime": {
     "end_time": "2022-06-13T06:23:59.476719Z",
     "start_time": "2022-06-13T06:23:59.465286Z"
    }
   },
   "outputs": [],
   "source": [
    "def get_bam_path(w):\n",
    "    '''\n",
    "    returns the bam path from the wildcards object depending on the context\n",
    "    '''\n",
    "\n",
    "    ## get the wildcard atributes into wcs\n",
    "    wcs = vars(w)['_names'].keys()\n",
    "    if 'type' in wcs:\n",
    "        sample_name = f\"{w.sample}_{w.type}\"\n",
    "    # for filterbam wildcards contain tumor and type but type is needed\n",
    "    # elif takes care of that\n",
    "    elif 'tumor' in wcs:\n",
    "        sample_name = f\"{w.sample}_{w.tumor}\"\n",
    "    elif 'tumor' not in wcs:\n",
    "        sample_name = w.sample\n",
    "        \n",
    "    # checking for fixed normals \n",
    "    fixed_normal, normal_is_fixed = get_normal()\n",
    "    if normal_is_fixed and sample_name.endswith(\"_B\"):\n",
    "        \n",
    "        return sample_df.loc[fixed_normal]['bam_path']\n",
    "            \n",
    "    return sample_df.loc[sample_name]['bam_path']"
   ]
  },
  {
   "cell_type": "code",
   "execution_count": null,
   "metadata": {
    "ExecuteTime": {
     "end_time": "2022-06-13T06:24:00.222189Z",
     "start_time": "2022-06-13T06:24:00.212106Z"
    }
   },
   "outputs": [],
   "source": [
    "get_bam_path(w)"
   ]
  },
  {
   "cell_type": "markdown",
   "metadata": {},
   "source": [
    "### get bam pairs"
   ]
  },
  {
   "cell_type": "code",
   "execution_count": null,
   "metadata": {
    "ExecuteTime": {
     "end_time": "2022-06-13T06:24:04.858255Z",
     "start_time": "2022-06-13T06:24:04.848804Z"
    }
   },
   "outputs": [],
   "source": [
    "def get_bam_pair(w):\n",
    "    '''\n",
    "    returns the tumor_bam-normal_bam pair from the wildcards object depending on the context\n",
    "    '''\n",
    "    tumor = f\"{w.sample}_{w.tumor}\"\n",
    "    normal = f\"{w.sample}_{w.normal}\"\n",
    "    fixed_normal, normal_is_fixed = get_normal()\n",
    "    if normal_is_fixed:\n",
    "        return dict(\n",
    "            tumor_bam=sample_df.loc[tumor]['bam_path'],\n",
    "            normal_bam=sample_df.loc[fixed_normal]['bam_path']\n",
    "        )\n",
    "    return dict(\n",
    "        tumor_bam=sample_df.loc[tumor]['bam_path'],\n",
    "        normal_bam=sample_df.loc[normal]['bam_path']\n",
    "    )"
   ]
  },
  {
   "cell_type": "code",
   "execution_count": null,
   "metadata": {
    "ExecuteTime": {
     "end_time": "2022-06-13T06:24:05.617532Z",
     "start_time": "2022-06-13T06:24:05.606178Z"
    }
   },
   "outputs": [],
   "source": [
    "get_bam_pair(w)"
   ]
  },
  {
   "cell_type": "code",
   "execution_count": null,
   "metadata": {},
   "outputs": [],
   "source": []
  }
 ],
 "metadata": {
  "kernelspec": {
   "display_name": "Python 3 (ipykernel)",
   "language": "python",
   "name": "python3"
  },
  "language_info": {
   "codemirror_mode": {
    "name": "ipython",
    "version": 3
   },
   "file_extension": ".py",
   "mimetype": "text/x-python",
   "name": "python",
   "nbconvert_exporter": "python",
   "pygments_lexer": "ipython3",
   "version": "3.10.4"
  },
  "latex_envs": {
   "LaTeX_envs_menu_present": true,
   "autoclose": false,
   "autocomplete": true,
   "bibliofile": "biblio.bib",
   "cite_by": "apalike",
   "current_citInitial": 1,
   "eqLabelWithNumbers": true,
   "eqNumInitial": 1,
   "hotkeys": {
    "equation": "Ctrl-E",
    "itemize": "Ctrl-I"
   },
   "labels_anchors": false,
   "latex_user_defs": false,
   "report_style_numbering": false,
   "user_envs_cfg": false
  },
  "varInspector": {
   "cols": {
    "lenName": 16,
    "lenType": 16,
    "lenVar": 40
   },
   "kernels_config": {
    "python": {
     "delete_cmd_postfix": "",
     "delete_cmd_prefix": "del ",
     "library": "var_list.py",
     "varRefreshCmd": "print(var_dic_list())"
    },
    "r": {
     "delete_cmd_postfix": ") ",
     "delete_cmd_prefix": "rm(",
     "library": "var_list.r",
     "varRefreshCmd": "cat(var_dic_list()) "
    }
   },
   "types_to_exclude": [
    "module",
    "function",
    "builtin_function_or_method",
    "instance",
    "_Feature"
   ],
   "window_display": false
  }
 },
 "nbformat": 4,
 "nbformat_minor": 2
}
